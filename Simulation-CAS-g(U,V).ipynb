{
 "cells": [
  {
   "cell_type": "code",
   "execution_count": 1,
   "id": "d1710c43-a35c-46fe-a8b5-451b8f6e90a6",
   "metadata": {},
   "outputs": [
    {
     "name": "stdout",
     "output_type": "stream",
     "text": [
      "Wahrscheinlichkeit, dass A gewinnt (vereinfacht): p1*(p2*(p1 + p2) + p3*(p1 + p3) + (p1 + p2)*(p1 + p3))/((p1 + p2)*(p1 + p3)*(p1 + p2 + p3))\n",
      "Wahrscheinlichkeit, dass B gewinnt (vereinfacht): p2*p3*(2*p1 + p2 + p3)/((p1 + p2)*(p1 + p3)*(p1 + p2 + p3))\n",
      "Wahrscheinlichkeit für ein Unentschieden (vereinfacht): 0\n"
     ]
    }
   ],
   "source": [
    "import sympy as sp\n",
    "\n",
    "def g(A, B, p):\n",
    "    \"\"\"Berechnet rekursiv die symbolischen Wahrscheinlichkeiten für A und B sowie die Wahrscheinlichkeit eines Unentschiedens.\"\"\"\n",
    "    \n",
    "    # Basisfälle: Wer gewinnt?\n",
    "    if A == B:\n",
    "        return sp.Matrix([0, 0, 1])  # Unentschieden\n",
    "    elif sum(A) == 0:\n",
    "        return sp.Matrix([1, 0, 0])  # A gewinnt\n",
    "    elif sum(B) == 0:\n",
    "        return sp.Matrix([0, 1, 0])  # B gewinnt\n",
    "    \n",
    "    # Symbolische Wahrscheinlichkeit\n",
    "    s = sum(p[i] * int(A[i] > 0 or B[i] > 0) for i in range(len(A)))\n",
    "\n",
    "    result = sp.Matrix([0, 0, 0])\n",
    "\n",
    "    # Rekursion: Durch alle Felder iterieren und Wahrscheinlichkeiten berechnen\n",
    "    for i in range(len(A)):\n",
    "        if A[i] > 0 or B[i] > 0:\n",
    "            A_prime = list(A)\n",
    "            B_prime = list(B)\n",
    "            if A[i] > 0:\n",
    "                A_prime[i] -= 1\n",
    "            if B[i] > 0:\n",
    "                B_prime[i] -= 1\n",
    "            \n",
    "            # Rekursiver Aufruf mit symbolischer Wahrscheinlichkeitsberechnung\n",
    "            g_next = g(tuple(A_prime), tuple(B_prime), p)\n",
    "            result += (p[i] / s) * g_next\n",
    "    \n",
    "    return result\n",
    "\n",
    "# Symbolische Variablen für die Wahrscheinlichkeiten p1, p2, p3\n",
    "p1, p2, p3 = sp.symbols('p1 p2 p3')\n",
    "\n",
    "# Symbolische Wahrscheinlichkeiten für die Felder 1, 2, 3\n",
    "p = [p1, p2, p3]\n",
    "\n",
    "# Beispielhafte Startverteilungen: A und B\n",
    "A = (1, 0, 0)  # A hat einen Chip auf Feld 1\n",
    "B = (0, 1, 1)  # B hat einen Chip auf Feld 2 und einen auf Feld 3\n",
    "\n",
    "# Berechnung der Wahrscheinlichkeiten\n",
    "probabilities = g(A, B, p)\n",
    "\n",
    "# Vereinfachen der Wahrscheinlichkeiten\n",
    "prob_A_wins = sp.simplify(probabilities[0])\n",
    "prob_B_wins = sp.simplify(probabilities[1])\n",
    "prob_tie = sp.simplify(probabilities[2])\n",
    "\n",
    "# Ausgabe der symbolischen Wahrscheinlichkeiten nach Vereinfachung\n",
    "print(f\"Wahrscheinlichkeit, dass A gewinnt (vereinfacht): {prob_A_wins}\")\n",
    "print(f\"Wahrscheinlichkeit, dass B gewinnt (vereinfacht): {prob_B_wins}\")\n",
    "print(f\"Wahrscheinlichkeit für ein Unentschieden (vereinfacht): {prob_tie}\")\n"
   ]
  },
  {
   "cell_type": "code",
   "execution_count": null,
   "id": "7e708338-1ef8-4d13-90ff-ab1a107f11ec",
   "metadata": {},
   "outputs": [],
   "source": []
  }
 ],
 "metadata": {
  "kernelspec": {
   "display_name": "Python 3 (ipykernel)",
   "language": "python",
   "name": "python3"
  },
  "language_info": {
   "codemirror_mode": {
    "name": "ipython",
    "version": 3
   },
   "file_extension": ".py",
   "mimetype": "text/x-python",
   "name": "python",
   "nbconvert_exporter": "python",
   "pygments_lexer": "ipython3",
   "version": "3.9.7"
  }
 },
 "nbformat": 4,
 "nbformat_minor": 5
}

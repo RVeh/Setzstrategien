{
 "cells": [
  {
   "cell_type": "code",
   "execution_count": 1,
   "id": "4b85b82e-1785-4602-a601-4c187dfd6d4f",
   "metadata": {},
   "outputs": [
    {
     "name": "stdout",
     "output_type": "stream",
     "text": [
      "Anzahl der Verteilungen, bei denen A eine kleinere Gewinnwahrscheinlichkeit hat: 1\n",
      "\n",
      "Verteilungen, die eine bessere Gewinnwahrscheinlichkeit haben als A:\n",
      "(3, 7, 4, 3, 1, 0)\n"
     ]
    }
   ],
   "source": [
    "from itertools import product\n",
    "\n",
    "def g(A, B, p, memo={}):\n",
    "    key = (A, B)\n",
    "    if key in memo:\n",
    "        return memo[key]\n",
    "    if A == B:\n",
    "        result = (0.0, 0.0, 1.0)\n",
    "    elif sum(A) == 0:\n",
    "        result = (1.0, 0.0, 0.0)\n",
    "    elif sum(B) == 0:\n",
    "        result = (0.0, 1.0, 0.0)\n",
    "    else:\n",
    "        s = sum(p[i] * (A[i] > 0 or B[i] > 0) for i in range(len(A)))\n",
    "        result = [0.0, 0.0, 0.0]\n",
    "        for i in range(len(A)):\n",
    "            if A[i] > 0 or B[i] > 0:\n",
    "                A_prime = list(A)\n",
    "                B_prime = list(B)\n",
    "                if A[i] > 0:\n",
    "                    A_prime[i] -= 1\n",
    "                if B[i] > 0:\n",
    "                    B_prime[i] -= 1\n",
    "                g_next = g(tuple(A_prime), tuple(B_prime), p, memo)\n",
    "                for j in range(3):\n",
    "                    result[j] += (p[i] / s) * g_next[j]\n",
    "        result = tuple(result)\n",
    "    memo[key] = result\n",
    "    return result\n",
    "\n",
    "def compare_start_distribution(A, p):\n",
    "    better_distributions = []\n",
    "     \n",
    "    for x1, x2, x3, x4, x5 in product(range(19), repeat=5):\n",
    "        if x1 + x2 + x3 + x4 + x5 + 0 == 18:\n",
    "            B = (x1, x2, x3, x4, x5, 0)\n",
    "            prob_A_wins, prob_B_wins, _ = g(A, B, p)  \n",
    "            if prob_A_wins < prob_B_wins:\n",
    "                better_distributions.append(B)\n",
    "\n",
    "    return better_distributions, len(better_distributions)\n",
    "\n",
    "p = (3/18,5/18,4/18,3/18,2/18,1/18)\n",
    "A = (3, 5, 4, 3, 2, 1)\n",
    "\n",
    "# Vergleiche durchführen\n",
    "better_distributions, count_better_distributions = compare_start_distribution(A, p)\n",
    "\n",
    "# Ausgabe der \"besseren\" Verteilungen\n",
    "print(f\"Anzahl der Verteilungen, bei denen A eine kleinere Gewinnwahrscheinlichkeit hat: {count_better_distributions}\")\n",
    "print(\"\\nVerteilungen, die eine bessere Gewinnwahrscheinlichkeit haben als A:\")\n",
    "for dist in better_distributions:\n",
    "    print(dist)"
   ]
  },
  {
   "cell_type": "code",
   "execution_count": null,
   "id": "f1228211-da14-4353-8eee-efdb95c3ee1b",
   "metadata": {},
   "outputs": [],
   "source": []
  }
 ],
 "metadata": {
  "kernelspec": {
   "display_name": "Python 3 (ipykernel)",
   "language": "python",
   "name": "python3"
  },
  "language_info": {
   "codemirror_mode": {
    "name": "ipython",
    "version": 3
   },
   "file_extension": ".py",
   "mimetype": "text/x-python",
   "name": "python",
   "nbconvert_exporter": "python",
   "pygments_lexer": "ipython3",
   "version": "3.9.7"
  }
 },
 "nbformat": 4,
 "nbformat_minor": 5
}

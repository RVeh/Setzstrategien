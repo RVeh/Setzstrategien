{
 "cells": [
  {
   "cell_type": "code",
   "execution_count": 13,
   "id": "241d68de-50a0-4def-a4ad-ab5ae015cc9f",
   "metadata": {},
   "outputs": [
    {
     "name": "stdout",
     "output_type": "stream",
     "text": [
      "0 bessere Strategien\n"
     ]
    }
   ],
   "source": [
    "# zwei Würfel\n",
    "import random\n",
    "import numpy as np\n",
    "from itertools import product\n",
    "\n",
    "# Simulation eines Spiels mit zwei Strategien\n",
    "def simulate_competition(chips1, chips2, probabilities, trials):\n",
    "    wins1 = 0\n",
    "    wins2 = 0\n",
    "    draws = 0\n",
    "    \n",
    "    # Indizes der Felder nach Wahrscheinlichkeiten gewichten\n",
    "    weighted_indices = np.arange(fields)\n",
    "    \n",
    "    for _ in range(trials):\n",
    "        # Kopiere die Anfangszustände für beide Spieler\n",
    "        chips1_current = chips1.copy()\n",
    "        chips2_current = chips2.copy()\n",
    "        \n",
    "        # Verfolge die Anzahl der verbleibenden Chips\n",
    "        remaining_chips1 = sum(chips1_current)\n",
    "        remaining_chips2 = sum(chips2_current)\n",
    "\n",
    "        while remaining_chips1 > 0 and remaining_chips2 > 0:\n",
    "            # Felder auswählen, von denen Chips entfernt werden (einmal für jeden Spieler)\n",
    "            spin_result1 = random.choices(weighted_indices, probabilities)[0]\n",
    "            spin_result2 = random.choices(weighted_indices, probabilities)[0]\n",
    "            \n",
    "            # Entferne einen Chip von Spieler 1\n",
    "            if chips1_current[spin_result1] > 0:\n",
    "                chips1_current[spin_result1] -= 1\n",
    "                remaining_chips1 -= 1\n",
    "            \n",
    "            # Entferne einen Chip von Spieler 2\n",
    "            if chips2_current[spin_result2] > 0:\n",
    "                chips2_current[spin_result2] -= 1\n",
    "                remaining_chips2 -= 1\n",
    "\n",
    "        # Zähle, welcher Spieler zuerst alle Chips entfernt hat\n",
    "        if remaining_chips1 == 0 and remaining_chips2 > 0:\n",
    "            wins1 += 1\n",
    "        elif remaining_chips2 == 0 and remaining_chips1 > 0:\n",
    "            wins2 += 1\n",
    "        elif remaining_chips1 == 0 and remaining_chips2 == 0:\n",
    "            draws += 1\n",
    "\n",
    "    return wins1, wins2, draws\n",
    "\n",
    "# Wahrscheinlichkeiten der Sektoren\n",
    "trials = 2000\n",
    "\n",
    "# Erste Verteilung der Chips, die mit allen anderen verglichen wird\n",
    "probabilities = [3/18, 5/18, 4/18, 3/18, 2/18, 1/18]\n",
    "#Vergleich = [3, 6, 5, 3, 1, 0]  # Verteilung 1\n",
    "Vergleich = [3, 6, 5, 3, 1, 0]  # Verteilung 1\n",
    "fields=len(Vergleich)\n",
    "best=[]\n",
    "# Erwartete Drehungen berechnen\n",
    "i=0\n",
    "distributions = []\n",
    "# Einschränkung der Wertebereiche für a1 bis a6\n",
    "for a1, a2, a3, a4, a5, a6 in product(range(2, 6), range(3, 9), range(3, 9),\n",
    "                                      range(2, 6), range(0, 3), range(0, 2)):\n",
    "    # Bedingung für die Summe der Elemente\n",
    "    if a1 + a2 + a3 + a4 + a5 + a6 == 18:\n",
    "        # Speichere die Verteilung\n",
    "        distributions.append([a1, a2, a3, a4, a5, a6])\n",
    "for dist in distributions:\n",
    "    wins1, wins2, draws = simulate_competition(Vergleich, dist, probabilities, trials)\n",
    "    total_simulations = wins1 + wins2 + draws\n",
    "    if wins1<wins2:\n",
    "        best.append(dist)\n",
    "        i+=1\n",
    "        print(f\"Verteilung {Vergleich} gewinnt {wins1 / total_simulations * 100:.2f}% der Spiele\")\n",
    "        print(f\"Verteilung {dist} gewinnt {wins2 / total_simulations * 100:.2f}% der Spiele\")\n",
    "        print(f\"Unentschieden: {draws / total_simulations * 100:.2f}% der Spiele\")\n",
    "        print()\n",
    "print(i,'bessere Strategien')"
   ]
  },
  {
   "cell_type": "code",
   "execution_count": null,
   "id": "a6454ae9-21b4-46c8-923c-6a6438da7cf0",
   "metadata": {},
   "outputs": [],
   "source": []
  }
 ],
 "metadata": {
  "kernelspec": {
   "display_name": "Python 3 (ipykernel)",
   "language": "python",
   "name": "python3"
  },
  "language_info": {
   "codemirror_mode": {
    "name": "ipython",
    "version": 3
   },
   "file_extension": ".py",
   "mimetype": "text/x-python",
   "name": "python",
   "nbconvert_exporter": "python",
   "pygments_lexer": "ipython3",
   "version": "3.9.7"
  }
 },
 "nbformat": 4,
 "nbformat_minor": 5
}

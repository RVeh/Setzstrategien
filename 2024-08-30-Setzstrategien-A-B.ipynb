{
 "cells": [
  {
   "cell_type": "code",
   "execution_count": null,
   "id": "0d682dd2-71fa-4290-b205-ccf130b26393",
   "metadata": {},
   "outputs": [],
   "source": [
    "def g(A, B, p, memo={}):\n",
    "    key = (A, B)  # Erstellen eines Schlüssels für das Memo-Cache\n",
    "    if key in memo: return memo[key]\n",
    "    if A == B: result = (0.0, 0.0, 1.0)  # Unentschieden\n",
    "    elif sum(A) == 0: result = (1.0, 0.0, 0.0)  # A gewinnt\n",
    "    elif sum(B) == 0: result = (0.0, 1.0, 0.0)  # B gewinnt\n",
    "    else:\n",
    "        s = sum(p[i] * (A[i] > 0 or B[i] > 0) for i in range(len(A)))\n",
    "        result = [0.0, 0.0, 0.0]\n",
    "        for i in range(len(A)):\n",
    "            if A[i] > 0 or B[i] > 0:\n",
    "                A_prime = list(A)\n",
    "                B_prime = list(B)\n",
    "                if A[i] > 0:\n",
    "                    A_prime[i] -= 1\n",
    "                if B[i] > 0:\n",
    "                    B_prime[i] -= 1\n",
    "                g_next = g(tuple(A_prime), tuple(B_prime), p, memo)\n",
    "                for j in range(3):\n",
    "                    result[j] += (p[i] / s) * g_next[j]\n",
    "        result = tuple(result)\n",
    "    memo[key] = result\n",
    "    return result\n",
    "\n",
    "def ed(C, p, memo={}):\n",
    "    key = C  # Erstellen eines Schlüssels für das Memo-Cache\n",
    "    if key in memo: return memo[key]\n",
    "    if sum(C) == 0: result = 0.0\n",
    "    else:\n",
    "        s = sum(p[i] * (C[i] > 0) for i in range(len(C)))\n",
    "        expected_duration = 1.0 / s\n",
    "        \n",
    "        for i in range(len(C)):\n",
    "            if C[i] > 0:\n",
    "                C_prime = list(C)\n",
    "                C_prime[i] -= 1\n",
    "                expected_duration += (p[i] / s) * ed(tuple(C_prime), p, memo)\n",
    "        result = expected_duration\n",
    "    memo[key] = result\n",
    "    return result\n",
    "\n",
    "def run_game(A, B, p):\n",
    "    probabilities = g(A, B, p)\n",
    "    print(f\"Probabilities (A wins, B wins, tie): {probabilities}\")\n",
    "    expected_duration_A = ed(A, p)\n",
    "    print(f\"Expected duration for A: {expected_duration_A:.3f}\")\n",
    "    expected_duration_B = ed(B, p)\n",
    "    print(f\"Expected duration for B: {expected_duration_B:.3f}\")\n",
    "\n",
    "p = (3/18,5/18,4/18,3/18,2/18,1/18)\n",
    "A = (3,5,4,3,2,1)  \n",
    "B = (3,7,4,3,1,0)\n",
    "# Funktion ausführen\n",
    "run_game(A, B, p)"
   ]
  }
 ],
 "metadata": {
  "kernelspec": {
   "display_name": "Python 3 (ipykernel)",
   "language": "python",
   "name": "python3"
  },
  "language_info": {
   "codemirror_mode": {
    "name": "ipython",
    "version": 3
   },
   "file_extension": ".py",
   "mimetype": "text/x-python",
   "name": "python",
   "nbconvert_exporter": "python",
   "pygments_lexer": "ipython3",
   "version": "3.9.7"
  }
 },
 "nbformat": 4,
 "nbformat_minor": 5
}
